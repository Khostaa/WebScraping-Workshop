{
 "cells": [
  {
   "cell_type": "markdown",
   "id": "2f63a070",
   "metadata": {},
   "source": [
    "# Web Scraping Workshop Dec 23 Saturday 2023"
   ]
  },
  {
   "cell_type": "markdown",
   "id": "6ec23487",
   "metadata": {},
   "source": [
    "## Module 1. Introduction to Web Scraping"
   ]
  },
  {
   "cell_type": "raw",
   "id": "073a954f",
   "metadata": {},
   "source": [
    "## What is Web Scraping?\n",
    "--> Web Scraping is a idea of extracting data from any website.\n",
    "## Why is Web Scraping Valueable?\n",
    "--> \n",
    "## Real World Applications of Web Scraping\n",
    "-->"
   ]
  }
 ],
 "metadata": {
  "kernelspec": {
   "display_name": "Python 3 (ipykernel)",
   "language": "python",
   "name": "python3"
  },
  "language_info": {
   "codemirror_mode": {
    "name": "ipython",
    "version": 3
   },
   "file_extension": ".py",
   "mimetype": "text/x-python",
   "name": "python",
   "nbconvert_exporter": "python",
   "pygments_lexer": "ipython3",
   "version": "3.11.0"
  }
 },
 "nbformat": 4,
 "nbformat_minor": 5
}
